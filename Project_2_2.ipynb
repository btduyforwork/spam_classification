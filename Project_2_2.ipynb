{
  "nbformat": 4,
  "nbformat_minor": 0,
  "metadata": {
    "colab": {
      "provenance": [],
      "gpuType": "T4",
      "authorship_tag": "ABX9TyOcIYhxfGd1MitCRrhp7UTi",
      "include_colab_link": true
    },
    "kernelspec": {
      "name": "python3",
      "display_name": "Python 3"
    },
    "language_info": {
      "name": "python"
    },
    "accelerator": "GPU"
  },
  "cells": [
    {
      "cell_type": "markdown",
      "metadata": {
        "id": "view-in-github",
        "colab_type": "text"
      },
      "source": [
        "<a href=\"https://colab.research.google.com/github/btduyforwork/spam_classification/blob/main/Project_2_2.ipynb\" target=\"_parent\"><img src=\"https://colab.research.google.com/assets/colab-badge.svg\" alt=\"Open In Colab\"/></a>"
      ]
    },
    {
      "cell_type": "markdown",
      "source": [
        "## 0. Tải bộ dữ liệu\n"
      ],
      "metadata": {
        "id": "DRPhWhK6XfYz"
      }
    },
    {
      "cell_type": "code",
      "execution_count": 1,
      "metadata": {
        "id": "E0ENIFbnS3Z3",
        "colab": {
          "base_uri": "https://localhost:8080/"
        },
        "outputId": "acab293c-5b71-4658-8ac5-5b3beb25b6d9"
      },
      "outputs": [
        {
          "output_type": "stream",
          "name": "stdout",
          "text": [
            "Downloading...\n",
            "From: https://drive.google.com/uc?id=1N7rk-kfnDFIGMeX0ROVTjKh71gcgx-7R\n",
            "To: /content/2cls_spam_text_cls.csv\n",
            "\r  0% 0.00/486k [00:00<?, ?B/s]\r100% 486k/486k [00:00<00:00, 93.5MB/s]\n"
          ]
        }
      ],
      "source": [
        "# https://drive.google.com/file/d/1N7rk-kfnDFIGMeX0ROVTjKh71gcgx-7R/view?usp=sharing\n",
        "!gdown 1N7rk-kfnDFIGMeX0ROVTjKh71gcgx-7R"
      ]
    },
    {
      "cell_type": "markdown",
      "source": [
        "## 1. Import các thư viện cần thiết"
      ],
      "metadata": {
        "id": "Y-J7xz14gfz4"
      }
    },
    {
      "cell_type": "code",
      "source": [
        "import string\n",
        "import nltk\n",
        "nltk.download('stopwords')\n",
        "nltk.download('punkt')\n",
        "nltk.download('punkt_tab')\n",
        "import pandas as pd\n",
        "import numpy as np\n",
        "import matplotlib.pyplot as plt\n",
        "\n",
        "from sklearn.model_selection import train_test_split\n",
        "from sklearn.naive_bayes import MultinomialNB\n",
        "from sklearn.metrics import accuracy_score\n",
        "from sklearn.preprocessing import LabelEncoder"
      ],
      "metadata": {
        "colab": {
          "base_uri": "https://localhost:8080/"
        },
        "id": "O9dPUYVicbIo",
        "outputId": "14e33306-7eed-46a8-b1cf-4ded0e438d56"
      },
      "execution_count": 2,
      "outputs": [
        {
          "output_type": "stream",
          "name": "stderr",
          "text": [
            "[nltk_data] Downloading package stopwords to /root/nltk_data...\n",
            "[nltk_data]   Unzipping corpora/stopwords.zip.\n",
            "[nltk_data] Downloading package punkt to /root/nltk_data...\n",
            "[nltk_data]   Unzipping tokenizers/punkt.zip.\n",
            "[nltk_data] Downloading package punkt_tab to /root/nltk_data...\n",
            "[nltk_data]   Unzipping tokenizers/punkt_tab.zip.\n"
          ]
        }
      ]
    },
    {
      "cell_type": "markdown",
      "source": [
        "## 2. Đọc và tách dữ liệu"
      ],
      "metadata": {
        "id": "VDsLg4W5o6uK"
      }
    },
    {
      "cell_type": "code",
      "source": [
        "DATASET_PATH=\"/content/2cls_spam_text_cls.csv\"\n",
        "df=pd.read_csv(DATASET_PATH)\n",
        "labels=df[\"Category\"].values.tolist()\n",
        "messages=df[\"Message\"].values.tolist()"
      ],
      "metadata": {
        "id": "kB-orKY0nLaC"
      },
      "execution_count": 3,
      "outputs": []
    },
    {
      "cell_type": "code",
      "source": [
        "labels[0:10]"
      ],
      "metadata": {
        "colab": {
          "base_uri": "https://localhost:8080/"
        },
        "id": "VuWzpM62ok9R",
        "outputId": "cc8bf70a-be58-4731-8c92-fb3e549d33c7"
      },
      "execution_count": 4,
      "outputs": [
        {
          "output_type": "execute_result",
          "data": {
            "text/plain": [
              "['ham', 'ham', 'spam', 'ham', 'ham', 'spam', 'ham', 'ham', 'spam', 'spam']"
            ]
          },
          "metadata": {},
          "execution_count": 4
        }
      ]
    },
    {
      "cell_type": "markdown",
      "source": [
        "### 2.1. Xử lý dữ liệu nhãn"
      ],
      "metadata": {
        "id": "T59xXa3GlZYT"
      }
    },
    {
      "cell_type": "code",
      "source": [
        "le = LabelEncoder()\n",
        "y = le.fit_transform(labels)\n",
        "print(f'Classes: {le.classes_}')\n",
        "print(f'Encoded labels: {y}')"
      ],
      "metadata": {
        "colab": {
          "base_uri": "https://localhost:8080/"
        },
        "id": "L4OTWW-6lA-A",
        "outputId": "ec1dd3d2-3882-4a2f-e4a6-d3052edc936b"
      },
      "execution_count": 5,
      "outputs": [
        {
          "output_type": "stream",
          "name": "stdout",
          "text": [
            "Classes: ['ham' 'spam']\n",
            "Encoded labels: [0 0 1 ... 0 0 0]\n"
          ]
        }
      ]
    },
    {
      "cell_type": "code",
      "source": [],
      "metadata": {
        "id": "bL4r3gG5lZGN"
      },
      "execution_count": 5,
      "outputs": []
    },
    {
      "cell_type": "markdown",
      "source": [
        "## 3. Tiền xử lý dữ liệu"
      ],
      "metadata": {
        "id": "8OW8_iQXo_cx"
      }
    },
    {
      "cell_type": "code",
      "source": [
        "def lowercase(text):\n",
        "    return text.lower()\n",
        "\n",
        "def punctuation_removal(text):\n",
        "    table = str.maketrans(\"\", \"\", string.punctuation)\n",
        "    return text.translate(table)\n",
        "\n",
        "def tokenize(text):\n",
        "    return nltk.word_tokenize(text)\n",
        "\n",
        "def remove_stopwords(tokens):\n",
        "    stop_words = nltk.corpus.stopwords.words('english')\n",
        "    tokens = [token for token in tokens if token not in stop_words]\n",
        "    return tokens\n",
        "\n",
        "def stemming(tokens):\n",
        "    stemmer=nltk.stem.PorterStemmer()\n",
        "    stem_tokens=[stemmer.stem(word) for word in tokens]\n",
        "    return stem_tokens\n",
        "\n",
        "def preprocess_text(text):\n",
        "    text = lowercase(text)\n",
        "    text = punctuation_removal(text)\n",
        "    tokens = tokenize(text)\n",
        "    tokens = remove_stopwords(tokens)\n",
        "    tokens = stemming(tokens)\n",
        "\n",
        "    return tokens\n",
        "# preprocess_text(\"The cat's toys are scattered everywhere!\")"
      ],
      "metadata": {
        "id": "KU1Ioj6cpCgW"
      },
      "execution_count": 6,
      "outputs": []
    },
    {
      "cell_type": "code",
      "source": [
        "pro_messages = [preprocess_text(message) for message in messages]\n",
        "pro_messages[0:5]"
      ],
      "metadata": {
        "id": "gdMaFqwBCpjH",
        "colab": {
          "base_uri": "https://localhost:8080/"
        },
        "outputId": "8c358f68-2ea8-4bbc-bb4a-92bf15a7c0b1"
      },
      "execution_count": 7,
      "outputs": [
        {
          "output_type": "execute_result",
          "data": {
            "text/plain": [
              "[['go',\n",
              "  'jurong',\n",
              "  'point',\n",
              "  'crazi',\n",
              "  'avail',\n",
              "  'bugi',\n",
              "  'n',\n",
              "  'great',\n",
              "  'world',\n",
              "  'la',\n",
              "  'e',\n",
              "  'buffet',\n",
              "  'cine',\n",
              "  'got',\n",
              "  'amor',\n",
              "  'wat'],\n",
              " ['ok', 'lar', 'joke', 'wif', 'u', 'oni'],\n",
              " ['free',\n",
              "  'entri',\n",
              "  '2',\n",
              "  'wkli',\n",
              "  'comp',\n",
              "  'win',\n",
              "  'fa',\n",
              "  'cup',\n",
              "  'final',\n",
              "  'tkt',\n",
              "  '21st',\n",
              "  'may',\n",
              "  '2005',\n",
              "  'text',\n",
              "  'fa',\n",
              "  '87121',\n",
              "  'receiv',\n",
              "  'entri',\n",
              "  'questionstd',\n",
              "  'txt',\n",
              "  'ratetc',\n",
              "  'appli',\n",
              "  '08452810075over18'],\n",
              " ['u', 'dun', 'say', 'earli', 'hor', 'u', 'c', 'alreadi', 'say'],\n",
              " ['nah', 'dont', 'think', 'goe', 'usf', 'live', 'around', 'though']]"
            ]
          },
          "metadata": {},
          "execution_count": 7
        }
      ]
    },
    {
      "cell_type": "markdown",
      "source": [
        "## 4. Create a dictionary & Features"
      ],
      "metadata": {
        "id": "oDtt1lgokQkD"
      }
    },
    {
      "cell_type": "code",
      "source": [
        "def create_dictionary(messages):\n",
        "  dictionary=[]\n",
        "  for tokens in messages:\n",
        "    for token in tokens:\n",
        "      if token not in dictionary:\n",
        "        dictionary.append(token)\n",
        "  return dictionary\n",
        "\n",
        "def create_features(tokens, dictionary):\n",
        "  features = np.zeros(len(dictionary))\n",
        "  for token in tokens:\n",
        "    if token in dictionary:\n",
        "      index=dictionary.index(token)\n",
        "      features[index]+=1\n",
        "  return features"
      ],
      "metadata": {
        "id": "1rppKg7wkQCj"
      },
      "execution_count": 8,
      "outputs": []
    },
    {
      "cell_type": "code",
      "source": [
        "dictionary = create_dictionary(pro_messages)\n",
        "X=[create_features(tokens,dictionary)for tokens in pro_messages]\n",
        "len(X)\n",
        "len(y)"
      ],
      "metadata": {
        "id": "w4PTtKeq9QZS",
        "colab": {
          "base_uri": "https://localhost:8080/"
        },
        "outputId": "7399e21b-5861-44c6-9167-17ad346f8087"
      },
      "execution_count": 9,
      "outputs": [
        {
          "output_type": "execute_result",
          "data": {
            "text/plain": [
              "5572"
            ]
          },
          "metadata": {},
          "execution_count": 9
        }
      ]
    },
    {
      "cell_type": "markdown",
      "source": [
        "## 5. Chia dữ liệu train/val/test\n",
        "\n",
        "> Add blockquote\n",
        "\n"
      ],
      "metadata": {
        "id": "rOrpKiZ_oJ_3"
      }
    },
    {
      "cell_type": "code",
      "source": [
        "TRAIN_SIZE = 0.7\n",
        "VAL_SIZE = 1/3\n",
        "SEED = 0\n",
        "X_val, X_train, y_val, y_train = train_test_split(\n",
        "    X,\n",
        "    y,\n",
        "    test_size=TRAIN_SIZE,\n",
        "    shuffle=True,\n",
        "    random_state=SEED\n",
        ")\n",
        "X_val, X_test, y_val, y_test = train_test_split(\n",
        "    X_val,\n",
        "    y_val,\n",
        "    test_size=VAL_SIZE,\n",
        "    shuffle=True,\n",
        "    random_state=SEED\n",
        ")"
      ],
      "metadata": {
        "id": "HLdH891_rO_-"
      },
      "execution_count": 10,
      "outputs": []
    },
    {
      "cell_type": "code",
      "source": [
        "len(X_test)"
      ],
      "metadata": {
        "colab": {
          "base_uri": "https://localhost:8080/"
        },
        "id": "-Mdh5mIwxhr4",
        "outputId": "4daaeb00-e374-4a26-95f6-493222aeea52"
      },
      "execution_count": 11,
      "outputs": [
        {
          "output_type": "execute_result",
          "data": {
            "text/plain": [
              "557"
            ]
          },
          "metadata": {},
          "execution_count": 11
        }
      ]
    },
    {
      "cell_type": "markdown",
      "source": [
        "## 6. Huấn luyện mô hình\n"
      ],
      "metadata": {
        "id": "7YC82X6r7lL0"
      }
    },
    {
      "cell_type": "code",
      "source": [
        "%%time\n",
        "model=MultinomialNB()\n",
        "print(\"Start training ... \")\n",
        "model.fit(X_train,y_train)\n",
        "print(\"Training Completed !!!\")\n"
      ],
      "metadata": {
        "colab": {
          "base_uri": "https://localhost:8080/"
        },
        "id": "HxhWOjSP7jbS",
        "outputId": "1563e635-7737-432f-880b-a29313899e06"
      },
      "execution_count": 12,
      "outputs": [
        {
          "output_type": "stream",
          "name": "stdout",
          "text": [
            "Start training ... \n",
            "Training Completed !!!\n",
            "CPU times: user 161 ms, sys: 57.7 ms, total: 219 ms\n",
            "Wall time: 191 ms\n"
          ]
        }
      ]
    },
    {
      "cell_type": "markdown",
      "source": [
        "## 7. Đánh giá\n"
      ],
      "metadata": {
        "id": "eOC0-dKO-iU0"
      }
    },
    {
      "cell_type": "code",
      "source": [
        "X_val_prediction=model.predict(X_val)\n",
        "X_test_prediction=model.predict(X_test)\n",
        "print(np.array(X_val))\n",
        "val_accuracy=accuracy_score(y_val,X_val_prediction)\n",
        "test_accuracy=accuracy_score(y_test,X_test_prediction)\n",
        "\n",
        "print(f'Validation Accuracy: {val_accuracy}')\n",
        "print(f'Test Accuracy: {test_accuracy}')\n"
      ],
      "metadata": {
        "colab": {
          "base_uri": "https://localhost:8080/"
        },
        "id": "15_7gqv8-iHd",
        "outputId": "1823b372-86c2-428e-84ae-fd38b15b9ff5"
      },
      "execution_count": 13,
      "outputs": [
        {
          "output_type": "stream",
          "name": "stdout",
          "text": [
            "[[0. 0. 0. ... 0. 0. 0.]\n",
            " [0. 0. 0. ... 0. 0. 0.]\n",
            " [0. 0. 0. ... 0. 0. 0.]\n",
            " ...\n",
            " [1. 0. 0. ... 0. 0. 0.]\n",
            " [0. 0. 0. ... 0. 0. 0.]\n",
            " [0. 0. 0. ... 0. 0. 0.]]\n",
            "Validation Accuracy: 0.9793536804308797\n",
            "Test Accuracy: 0.9694793536804309\n"
          ]
        }
      ]
    },
    {
      "cell_type": "markdown",
      "source": [
        "## 7. Prediction"
      ],
      "metadata": {
        "id": "Gs6bOSMBC_a-"
      }
    },
    {
      "cell_type": "code",
      "source": [
        "def predict(text, model, dictionary):\n",
        "    processed_text = preprocess_text(text)\n",
        "    features = create_features(text, dictionary)\n",
        "    features = np.array(features).reshape(1,-1)\n",
        "    prediction = model.predict(features)\n",
        "    prediction = le.inverse_transform(prediction)[0]\n",
        "    return str(prediction)"
      ],
      "metadata": {
        "id": "ytqki6DDC--c"
      },
      "execution_count": 46,
      "outputs": []
    },
    {
      "cell_type": "code",
      "source": [
        "test_input = 'I am actually thinking a way of doing something useful'\n",
        "prediction = predict(test_input, model, dictionary)\n",
        "prediction"
      ],
      "metadata": {
        "colab": {
          "base_uri": "https://localhost:8080/",
          "height": 35
        },
        "id": "tB8QjeBEEs5j",
        "outputId": "f5a57afe-26db-4a1a-bcc9-4d57da4260d5"
      },
      "execution_count": 47,
      "outputs": [
        {
          "output_type": "execute_result",
          "data": {
            "text/plain": [
              "'ham'"
            ],
            "application/vnd.google.colaboratory.intrinsic+json": {
              "type": "string"
            }
          },
          "metadata": {},
          "execution_count": 47
        }
      ]
    }
  ]
}